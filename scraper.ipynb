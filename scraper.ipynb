{
 "cells": [
  {
   "cell_type": "code",
   "execution_count": null,
   "id": "c2678f85",
   "metadata": {},
   "outputs": [],
   "source": [
    "from bs4 import BeautifulSoup\n",
    "import pandas as pd \n",
    "import os\n",
    "\n",
    "def get_name_price(html):\n",
    "    data = []\n",
    "\n",
    "    # Parse the HTML content using BeautifulSoup\n",
    "    soup = BeautifulSoup(html_content, 'html.parser')\n",
    "\n",
    "    tables = soup.find_all('div', class_='pt-2')\n",
    "\n",
    "    relevant = tables[0]\n",
    "\n",
    "    listitems = relevant.find_all('li')\n",
    "\n",
    "    for li in listitems:\n",
    "\n",
    "        seller_names = li.find_all('span', attrs={'data-qa': 'seller-name'})\n",
    "        seller_price = li.find_all('span', attrs={'data-qa': 'seller-price'})\n",
    "\n",
    "        if seller_names and seller_price:\n",
    "            data.append([seller_names[0].text, seller_price[0].text])\n",
    "\n",
    "    data = pd.DataFrame(data)\n",
    "    data.columns = ['pharmacy', 'price']\n",
    "    return data\n",
    "\n",
    "\n"
   ]
  },
  {
   "cell_type": "code",
   "execution_count": null,
   "id": "65094960",
   "metadata": {},
   "outputs": [],
   "source": [
    "fnames = [fname for fname in os.listdir('.') if fname.endswith('GoodRx.html')]\n",
    "\n",
    "results = []\n",
    "\n",
    "for fname in fnames:\n",
    "    with open(fname, 'r') as f:\n",
    "        html_content = f.read()\n",
    "    data = get_name_price(html_content)\n",
    "    drug_name = fname.split(' ')[0]\n",
    "    data['name'] = drug_name\n",
    "    results.append(data)\n",
    "\n",
    "all_data = pd.concat(results)\n",
    "\n",
    "all_data.to_csv('all_data.csv', index=False)"
   ]
  },
  {
   "cell_type": "code",
   "execution_count": null,
   "id": "3563eed8",
   "metadata": {},
   "outputs": [],
   "source": []
  }
 ],
 "metadata": {
  "kernelspec": {
   "display_name": "Python 3",
   "language": "python",
   "name": "python3"
  },
  "language_info": {
   "name": "python",
   "version": "3.11.9"
  }
 },
 "nbformat": 4,
 "nbformat_minor": 5
}
