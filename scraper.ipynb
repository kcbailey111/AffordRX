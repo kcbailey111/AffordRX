{
 "cells": [
  {
   "cell_type": "code",
   "execution_count": 10,
   "id": "eaedbc39",
   "metadata": {},
   "outputs": [
    {
     "name": "stdout",
     "output_type": "stream",
     "text": [
      "2.3.3\n"
     ]
    }
   ],
   "source": [
    "import pandas as pd\n",
    "print(pd.__version__)\n"
   ]
  },
  {
   "cell_type": "code",
   "execution_count": null,
   "id": "c2678f85",
   "metadata": {},
   "outputs": [],
   "source": [
    "from bs4 import BeautifulSoup\n",
    "import pandas as pd\n",
    "import os\n",
    "\n",
    "def get_name_price(html):\n",
    "    \"\"\"Parse GoodRx HTML and return a DataFrame with columns ['pharmacy', 'price'].\n",
    "\n",
    "    Uses the passed-in `html` parameter (fixes the previous `html_content` NameError).\n",
    "    Returns an empty DataFrame if the expected container is not found.\n",
    "    \"\"\"\n",
    "\n",
    "    data = []\n",
    "\n",
    "    # Parse the HTML content using the passed-in argument\n",
    "    soup = BeautifulSoup(html, 'html.parser')\n",
    "\n",
    "    # Find container divs; return empty DataFrame if none found\n",
    "    tables = soup.find_all('div', class_='pt-2')\n",
    "    if not tables:\n",
    "        return pd.DataFrame(columns=['pharmacy', 'price'])\n",
    "\n",
    "    relevant = tables[0]\n",
    "    listitems = relevant.find_all('li')\n",
    "\n",
    "    for li in listitems:\n",
    "\n",
    "        seller_names = li.find_all('span', attrs={'data-qa': 'seller-name'})\n",
    "        seller_price = li.find_all('span', attrs={'data-qa': 'seller-price'})\n",
    "\n",
    "        # Only access [0] if lists are non-empty\n",
    "        if seller_names and seller_price:\n",
    "            name = seller_names[0].get_text(strip=True)\n",
    "            price = seller_price[0].get_text(strip=True)\n",
    "            data.append([name, price])\n",
    "\n",
    "    # Build DataFrame and return\n",
    "    df = pd.DataFrame(data, columns=['pharmacy', 'price'])\n",
    "    return df\n",
    "\n",
    "\n",
    "\n",
    "########## Look for GoodRx HTML files inside the 'Drugs_To_Get' folder ##########\n",
    "folder = 'Drugs_To_Get'\n",
    "fnames = [os.path.join(folder, fname) for fname in os.listdir(folder) if fname.endswith('GoodRx.html')]\n",
    "\n",
    "results = []\n",
    "\n",
    "for fname in fnames:\n",
    "    # Read file with explicit encoding\n",
    "    with open(fname, 'r', encoding='utf-8') as f:\n",
    "        html_content = f.read()\n",
    "\n",
    "    # Parse the HTML into a DataFrame\n",
    "    df = get_name_price(html_content)\n",
    "\n",
    "    # Extract a drug name from the filename (first token of the base name)\n",
    "    drug_name = os.path.basename(fname).split(' ')[0]\n",
    "\n",
    "    # Ensure df has the expected columns even if empty\n",
    "    if df.empty:\n",
    "        df = pd.DataFrame(columns=['pharmacy', 'price'])\n",
    "\n",
    "    # Add the drug name column\n",
    "    df['name'] = drug_name\n",
    "\n",
    "    results.append(df)\n",
    "\n",
    "# Concatenate results safely\n",
    "if results:\n",
    "    all_data = pd.concat(results)\n",
    "else:\n",
    "    all_data = pd.DataFrame(columns=['pharmacy', 'price', 'name'])\n",
    "\n",
    "all_data.to_csv('all_data.csv', index=False)\n",
    "print(all_data)\n",
    "\n",
    "\n"
   ]
  },
  {
   "cell_type": "code",
   "execution_count": null,
   "id": "65094960",
   "metadata": {},
   "outputs": [
    {
     "name": "stdout",
     "output_type": "stream",
     "text": [
      "                       pharmacy   price           name\n",
      "0                     Walgreens   $2.55  Acetaminophen\n",
      "1                       Walmart   $5.66  Acetaminophen\n",
      "2   Walmart Neighborhood Market   $3.57  Acetaminophen\n",
      "3                        Costco   $4.80  Acetaminophen\n",
      "4                 Harris Teeter  $18.78  Acetaminophen\n",
      "..                          ...     ...            ...\n",
      "4                 Harris Teeter  $18.37        Vitamin\n",
      "5                  Target (CVS)  $22.70        Vitamin\n",
      "6   Walmart Neighborhood Market   $3.67        Vitamin\n",
      "7                        Publix   $4.03        Vitamin\n",
      "8               Kroger Pharmacy  $18.37        Vitamin\n",
      "\n",
      "[122 rows x 3 columns]\n"
     ]
    }
   ],
   "source": []
  }
 ],
 "metadata": {
  "kernelspec": {
   "display_name": "Python 3",
   "language": "python",
   "name": "python3"
  },
  "language_info": {
   "codemirror_mode": {
    "name": "ipython",
    "version": 3
   },
   "file_extension": ".py",
   "mimetype": "text/x-python",
   "name": "python",
   "nbconvert_exporter": "python",
   "pygments_lexer": "ipython3",
   "version": "3.11.9"
  }
 },
 "nbformat": 4,
 "nbformat_minor": 5
}
